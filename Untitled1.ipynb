{
  "nbformat": 4,
  "nbformat_minor": 0,
  "metadata": {
    "colab": {
      "name": "Untitled1.ipynb",
      "provenance": [],
      "authorship_tag": "ABX9TyP4GHmtrlb5WKNjw9UyrwVs",
      "include_colab_link": true
    },
    "kernelspec": {
      "name": "python3",
      "display_name": "Python 3"
    },
    "language_info": {
      "name": "python"
    }
  },
  "cells": [
    {
      "cell_type": "markdown",
      "metadata": {
        "id": "view-in-github",
        "colab_type": "text"
      },
      "source": [
        "<a href=\"https://colab.research.google.com/github/hanzt0528/3D-Machine-Learning/blob/master/Untitled1.ipynb\" target=\"_parent\"><img src=\"https://colab.research.google.com/assets/colab-badge.svg\" alt=\"Open In Colab\"/></a>"
      ]
    },
    {
      "cell_type": "code",
      "metadata": {
        "colab": {
          "base_uri": "https://localhost:8080/",
          "height": 445
        },
        "id": "F9YEFA2LQNJS",
        "outputId": "e0e54758-f7d5-49be-981f-553ccd7ea44f"
      },
      "source": [
        "import torch\n",
        "import torch.nn as nn\n",
        "import numpy as np\n",
        "\n",
        "from sklearn import datasets\n",
        "\n",
        "import matplotlib.pyplot as plt\n",
        "\n",
        "X_numpy,y_numpy=datasets.make_regression(n_samples = 100,n_features=1,random_state=1)\n",
        "\n",
        "X=torch.from_numpy(X_numpy.astype(np.float32))\n",
        "y=torch.from_numpy(y_numpy.astype(np.float32))\n",
        "\n",
        "y=y.view(y.shape[0],1)\n",
        "\n",
        "n_samples,n_features=X.shape\n",
        "\n",
        "input_size = n_features\n",
        "output_size = 1\n",
        "model = nn.Linear(input_size,output_size)\n",
        "\n",
        "learning_rate = 0.01\n",
        "criterion=nn.MSELoss()\n",
        "optimizer=torch.optim.SGD(model.parameters(),lr = learning_rate)\n",
        "\n",
        "num_epochs=100\n",
        "\n",
        "for epoch in range(num_epochs):\n",
        "  y_predicted = model(X)\n",
        "  loss=criterion(y_predicted,y)\n",
        "\n",
        "  loss.backward()\n",
        "\n",
        "  optimizer.step()\n",
        "  optimizer.zero_grad()\n",
        "\n",
        "  if(epoch+1)%10 == 0:\n",
        "    print(f'epoch:{epoch+1},loss={loss:.4f}')\n",
        "\n",
        "\n",
        "predicted=model(X).detach().numpy()\n",
        "plt.plot(X_numpy,y_numpy,'ro')\n",
        "plt.plot(X_numpy,predicted,'b')\n",
        "plt.show()\n"
      ],
      "execution_count": 4,
      "outputs": [
        {
          "output_type": "stream",
          "text": [
            "epoch:10,loss=3877.4829\n",
            "epoch:20,loss=2819.4055\n",
            "epoch:30,loss=2051.4644\n",
            "epoch:40,loss=1493.6356\n",
            "epoch:50,loss=1088.1196\n",
            "epoch:60,loss=793.1203\n",
            "epoch:70,loss=578.3786\n",
            "epoch:80,loss=421.9665\n",
            "epoch:90,loss=307.9779\n",
            "epoch:100,loss=224.8647\n"
          ],
          "name": "stdout"
        },
        {
          "output_type": "display_data",
          "data": {
            "image/png": "[encoded data removed]",
            "text/plain": [
              "<Figure size 432x288 with 1 Axes>"
            ]
          },
          "metadata": {
            "tags": [],
            "needs_background": "light"
          }
        }
      ]
    }
  ]
}